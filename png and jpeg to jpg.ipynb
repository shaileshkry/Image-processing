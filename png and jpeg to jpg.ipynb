{
 "cells": [
  {
   "cell_type": "code",
   "execution_count": 20,
   "id": "4107150b",
   "metadata": {},
   "outputs": [],
   "source": [
    "import cv2 as cv\n",
    "import os"
   ]
  },
  {
   "cell_type": "code",
   "execution_count": 21,
   "id": "bb0629e6",
   "metadata": {},
   "outputs": [],
   "source": [
    "os.makedirs('ms_dhoni_jpg',exist_ok=True)"
   ]
  },
  {
   "cell_type": "code",
   "execution_count": 24,
   "id": "38dc9163",
   "metadata": {},
   "outputs": [],
   "source": [
    "for file in os.listdir('MS Dhoni'):\n",
    "    if file.endswith('.png'):\n",
    "        png_path=os.path.join('MS Dhoni',file)\n",
    "        jpg_file = os.path.splitext(file)[0] + \".jpg\"\n",
    "        jpg_path = os.path.join('ms_dhoni_jpg', jpg_file)\n",
    "        image = cv.imread(png_path)\n",
    "        cv.imwrite(jpg_path, image, [int(cv.IMWRITE_JPEG_QUALITY), 100])\n",
    "    elif file.endswith('.jpeg'):\n",
    "        jpeg_path=os.path.join('MS Dhoni',file)\n",
    "        jpg_file = os.path.splitext(file)[0] + \".jpg\"\n",
    "        jpg_path = os.path.join('ms_dhoni_jpg', jpg_file)\n",
    "        image = cv.imread(jpeg_path)\n",
    "        cv.imwrite(jpg_path, image, [int(cv.IMWRITE_JPEG_QUALITY), 100])\n",
    "    "
   ]
  },
  {
   "cell_type": "code",
   "execution_count": null,
   "id": "4f490c46",
   "metadata": {},
   "outputs": [],
   "source": []
  },
  {
   "cell_type": "code",
   "execution_count": null,
   "id": "5e845e8f",
   "metadata": {},
   "outputs": [],
   "source": []
  },
  {
   "cell_type": "code",
   "execution_count": null,
   "id": "5111b1fd",
   "metadata": {},
   "outputs": [],
   "source": []
  }
 ],
 "metadata": {
  "kernelspec": {
   "display_name": "Python 3 (ipykernel)",
   "language": "python",
   "name": "python3"
  },
  "language_info": {
   "codemirror_mode": {
    "name": "ipython",
    "version": 3
   },
   "file_extension": ".py",
   "mimetype": "text/x-python",
   "name": "python",
   "nbconvert_exporter": "python",
   "pygments_lexer": "ipython3",
   "version": "3.11.5"
  }
 },
 "nbformat": 4,
 "nbformat_minor": 5
}
